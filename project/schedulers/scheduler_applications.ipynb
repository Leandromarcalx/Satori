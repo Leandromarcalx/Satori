{
 "cells": [
  {
   "cell_type": "code",
   "execution_count": 1,
   "metadata": {},
   "outputs": [],
   "source": [
    "import schedule\n",
    "import time\n",
    "import subprocess"
   ]
  },
  {
   "cell_type": "code",
   "execution_count": 2,
   "metadata": {},
   "outputs": [
    {
     "name": "stdout",
     "output_type": "stream",
     "text": [
      "[Every 1 day at 20:08:00 do run_script() (last run: [never], next run: 2025-01-12 20:08:00), Every 1 minute do run_script() (last run: [never], next run: 2025-01-12 20:08:45)]\n"
     ]
    }
   ],
   "source": [
    "def run_script():\n",
    "    try:\n",
    "        subprocess.call([r\"C:\\Users\\Cliente\\AppData\\Local\\Microsoft\\WindowsApps\\python.exe\", r\"C:\\Users\\Cliente\\Desktop\\Satori\\git\\datajourney\\nihongo_bot\\flask\\app.py\"])\n",
    "    except Exception as e:\n",
    "        print (\"An error ocurred: \", e)\n",
    "\n",
    "\n",
    "schedule.every().day.at(\"20:08\").do(run_script)\n",
    "schedule.every().minute.do(run_script)\n",
    "\n",
    "print(schedule.jobs)\n",
    "while True:\n",
    "    schedule.run_pending()\n",
    "    time.sleep(60)\n",
    "    "
   ]
  },
  {
   "cell_type": "code",
   "execution_count": null,
   "metadata": {},
   "outputs": [],
   "source": []
  }
 ],
 "metadata": {
  "kernelspec": {
   "display_name": "Python 3",
   "language": "python",
   "name": "python3"
  },
  "language_info": {
   "codemirror_mode": {
    "name": "ipython",
    "version": 3
   },
   "file_extension": ".py",
   "mimetype": "text/x-python",
   "name": "python",
   "nbconvert_exporter": "python",
   "pygments_lexer": "ipython3",
   "version": "3.12.3"
  }
 },
 "nbformat": 4,
 "nbformat_minor": 2
}
